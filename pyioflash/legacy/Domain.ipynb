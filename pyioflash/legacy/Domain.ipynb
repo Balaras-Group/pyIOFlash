{
 "cells": [
  {
   "cell_type": "code",
   "execution_count": 13,
   "metadata": {},
   "outputs": [
    {
     "data": {
      "text/html": [
       "<style>.container { width:90% !important; }</style>"
      ],
      "text/plain": [
       "<IPython.core.display.HTML object>"
      ]
     },
     "metadata": {},
     "output_type": "display_data"
    }
   ],
   "source": [
    "from IPython.core.display import display, HTML\n",
    "display(HTML(\"<style>.container { width:90% !important; }</style>\"))"
   ]
  },
  {
   "cell_type": "code",
   "execution_count": 14,
   "metadata": {},
   "outputs": [],
   "source": [
    "from functools import partial\n",
    "\n",
    "import numpy\n",
    "from matplotlib import pyplot, cm, colors, colorbar, animation\n",
    "\n",
    "from pyioflash import SimulationData"
   ]
  },
  {
   "cell_type": "code",
   "execution_count": 15,
   "metadata": {},
   "outputs": [],
   "source": [
    "axes  = ('i',            'j',            'k'           )\n",
    "procs = {'i':         8, 'j':         8, 'k':         1}\n",
    "sizes = {'i':      64*8, 'j':      32*8, 'k':         0}\n",
    "simmx = {'i':       2.0, 'j':       1.0, 'k':         0}\n",
    "simmn = {'i':       0.0, 'j':       0.0, 'k':         0}\n",
    "param = {'i':      0.00, 'j':     0.990, 'k':         0}\n",
    "stype = {'i': 'SG_UGRD', 'j': 'SG_TANH', 'k': 'SG_UGRD'}\n",
    "guard = 1\n",
    "n_dim = 2"
   ]
  },
  {
   "cell_type": "code",
   "execution_count": 16,
   "metadata": {},
   "outputs": [],
   "source": [
    "def sg_ugrd(gr_coords, axes, gr_min, gr_max, gr_gIndexSize, gr_guard, gr_loGc, gr_hiGc, gr_blkCornerID,\n",
    "            gr_coordsGlb, gr_axisMe):\n",
    "    # calculate block cell coordinates\n",
    "    # start with a uniform distribution of points [0,1]\n",
    "    gr_delta = (gr_max - gr_min) / gr_gIndexSize\n",
    "    halfDelta = gr_delta / 2.0\n",
    "    j = gr_blkCornerID - gr_guard - 1\n",
    "\n",
    "    # uniform grid\n",
    "    l, c, r = 0, 1, 2\n",
    "    for axis, (coords, gmin, gmax, delta, halfd, p, low, high, jj) in enumerate(zip(\n",
    "        gr_coords, gr_min, gr_max, gr_delta, halfDelta, gr_par, gr_loGc, gr_hiGc, j)):\n",
    "        if axis < n_dim and axis in axes:\n",
    "            for i in range(low - 1, high):\n",
    "                coords[l, i, 0] = gmin + jj * delta\n",
    "                coords[c, i, 0] = gmin + jj * delta + halfd\n",
    "                jj = jj + 1\n",
    "                coords[r, i, 0] = gmin + jj * delta\n",
    "                \n",
    "    # calculate global cell coordinates\n",
    "    if gr_axisMe == 0:\n",
    "        j = j * 0\n",
    "        for axis, (coords, gmin, gmax, delta, halfd, p, low, high, jj) in enumerate(zip(\n",
    "            gr_coordsGlb, gr_min, gr_max, gr_delta, halfDelta, gr_par, [0, 0, 0], gr_gIndexSize, j)):\n",
    "            if axis < n_dim and axis in axes:\n",
    "                for i in range(low - 1, high): \n",
    "                    coords[l, i, 0] = gmin + jj * delta\n",
    "                    coords[c, i, 0] = gmin + jj * delta + halfd\n",
    "                    jj = jj + 1\n",
    "                    coords[r, i, 0] = gmin + jj * delta                    "
   ]
  },
  {
   "cell_type": "code",
   "execution_count": 17,
   "metadata": {},
   "outputs": [],
   "source": [
    "def sg_tanh(gr_par,\n",
    "            gr_coords, axes, gr_min, gr_max, gr_gIndexSize, gr_guard, gr_loGc, gr_hiGc, gr_blkCornerID,\n",
    "            gr_coordsGlb, gr_axisMe):\n",
    "    # calculate block cell coordinates\n",
    "    # start with a uniform distribution of points [0,1]\n",
    "    gr_delta = 1.0 / gr_gIndexSize\n",
    "    halfDelta = gr_delta / 2.0\n",
    "    j = gr_blkCornerID - gr_guard - 1\n",
    "\n",
    "    # transform uniform to stretched using y(s) = Tanh((-1+2s) atan(a)) + 1 / 2a\n",
    "    l, c, r = 0, 1, 2\n",
    "    for axis, (coords, gmin, gmax, delta, halfd, p, low, high, jj) in enumerate(zip(\n",
    "        gr_coords, gr_min, gr_max, gr_delta, halfDelta, gr_par, gr_loGc, gr_hiGc, j)):\n",
    "        if axis < n_dim and axis in axes:\n",
    "            for i in range(low - 1, high):\n",
    "                coords[l, i, 0] = (gmax - gmin) * (numpy.tanh((-1.0 + 2.0 * jj * delta        ) * numpy.arctanh(p)) / p + 1.0) / 2.0 + gmin\n",
    "                coords[c, i, 0] = (gmax - gmin) * (numpy.tanh((-1.0 + 2.0 * jj * delta + halfd) * numpy.arctanh(p)) / p + 1.0) / 2.0 + gmin\n",
    "                jj = jj + 1\n",
    "                coords[r, i, 0] = (gmax - gmin) * (numpy.tanh((-1.0 + 2.0 * jj * delta        ) * numpy.arctanh(p)) / p + 1.0) / 2.0 + gmin\n",
    "\n",
    "    # calculate global cell coordinates\n",
    "    if gr_axisMe == 0:\n",
    "        j = j * 0\n",
    "        for axis, (coords, gmin, gmax, delta, halfd, p, low, high, jj) in enumerate(zip(\n",
    "            gr_coordsGlb, gr_min, gr_max, gr_delta, halfDelta, gr_par, [0, 0, 0], gr_gIndexSize, j)):\n",
    "            if axis < n_dim and axis in axes:\n",
    "                for i in range(low - 1, high):\n",
    "                    coords[l, i, 0] = (gmax - gmin) * (numpy.tanh((-1.0 + 2.0 * jj * delta        ) * numpy.arctanh(p)) / p + 1.0) / 2.0 + gmin\n",
    "                    coords[c, i, 0] = (gmax - gmin) * (numpy.tanh((-1.0 + 2.0 * jj * delta + halfd) * numpy.arctanh(p)) / p + 1.0) / 2.0 + gmin\n",
    "                    jj = jj + 1\n",
    "                    coords[r, i, 0] = (gmax - gmin) * (numpy.tanh((-1.0 + 2.0 * jj * delta        ) * numpy.arctanh(p)) / p + 1.0) / 2.0 + gmin        "
   ]
  },
  {
   "cell_type": "code",
   "execution_count": 18,
   "metadata": {},
   "outputs": [],
   "source": [
    "# create grid parameters as in GRID/UG/RegularGrid\n",
    "gr_guard = numpy.ones(len(axes), int) * guard\n",
    "gr_axisNumProcs = numpy.array(list(procs.values()), int)\n",
    "gr_gIndexSize = numpy.array(list(sizes.values()), int) \n",
    "gr_min = numpy.array(list(simmn.values()), float)\n",
    "gr_max = numpy.array(list(simmx.values()), float)\n",
    "gr_par = numpy.array(list(param.values()), float)"
   ]
  },
  {
   "cell_type": "code",
   "execution_count": 19,
   "metadata": {},
   "outputs": [],
   "source": [
    "# Create mapping for apply grid routines\n",
    "map_axes = lambda stretch: [axis for axis, method in enumerate(stype.values()) if method == stretch]\n",
    "any_axes = lambda stretch: len(map_axes(stretch)) > 0\n",
    "stretching = {'SG_UGRD': sg_ugrd,\n",
    "              'SG_TANH': partial(sg_tanh, gr_par)\n",
    "             }"
   ]
  },
  {
   "cell_type": "code",
   "execution_count": 20,
   "metadata": {},
   "outputs": [],
   "source": [
    "# Create processor mesh comm like in FLASH4\n",
    "np = gr_axisNumProcs\n",
    "mesh = [[k*np[1]*np[0]+j*np[0]+i, [i, j, k]] for k in range(np[2]) for j in range(np[1]) for i in range(np[0])]\n",
    "\n",
    "# Create grids\n",
    "coords, coordsGlb = [], []\n",
    "for gr_meshMe, gr_axisMe in mesh:\n",
    "    #store local index size for each block\n",
    "    gr_lIndexSize = numpy.array(gr_gIndexSize / gr_axisNumProcs, int)\n",
    "\n",
    "    #store lower left global index for each dim\n",
    "    gr_blkCornerID = gr_axisMe * gr_lIndexSize + 1 \n",
    "\n",
    "    gr_loGc = numpy.ones(len(axes), int) * 1\n",
    "    gr_lo = gr_loGc + gr_guard\n",
    "    gr_hi = gr_lo + gr_lIndexSize - 1\n",
    "    gr_hiGc = gr_hi + gr_guard\n",
    "\n",
    "    for axis in range(n_dim, len(axes)):\n",
    "        gr_loGc[axis] = 1\n",
    "        gr_lo[axis] = 1\n",
    "        gr_hi[axis] = 1\n",
    "        gr_hiGc[axis] = 1 \n",
    "        gr_guard[axis] = 0\n",
    "        gr_gIndexSize[axis] = 1\n",
    "\n",
    "    # Now create the grid and coordinates etc\n",
    "    gr_coords = [numpy.zeros((3, high - low + 1, 1)) for high, low in zip(gr_hiGc, gr_loGc)]\n",
    "    gr_coordsGlb = [numpy.zeros((3, high, 1)) for high in gr_gIndexSize]\n",
    "\n",
    "    for method, func in stretching.items():\n",
    "        if any_axes(method):\n",
    "            func(gr_coords, map_axes(method), gr_min, gr_max, gr_gIndexSize, gr_guard, gr_loGc, gr_hiGc, gr_blkCornerID,\n",
    "                 gr_coordsGlb, gr_axisMe)\n",
    "            \n",
    "    coords.append(gr_coords)\n",
    "    coordsGlb.append(gr_coordsGlb)\n",
    "    \n",
    "gr_iCoords, gr_jCoords, gr_kCoords = [numpy.array([[block[n][f, :, 0] for block in coords] for f in range(3)]) for n in range(3)]\n",
    "gr_iCoordsGlb, gr_jCoordsGlb, gr_kCoordsGlb = [numpy.array([[block[n][f, :, 0] for block in coordsGlb] for f in range(3)]) for n in range(3)]"
   ]
  },
  {
   "cell_type": "code",
   "execution_count": 21,
   "metadata": {},
   "outputs": [
    {
     "data": {
      "image/png": "[encoded data removed]",
      "text/plain": [
       "<Figure size 1296x648 with 1 Axes>"
      ]
     },
     "metadata": {
      "needs_background": "light"
     },
     "output_type": "display_data"
    }
   ],
   "source": [
    "fig, ax = pyplot.subplots(figsize=(18, 9))\n",
    "\n",
    "for block, coord in enumerate(coords[0:8]):\n",
    "    z = coord[0][0, :, 0]\n",
    "    lz = len(z)\n",
    "    x = numpy.linspace(block*(lz-2*gr_guard[0])-1, (block+1)*(lz-2*gr_guard[0])+1, lz, False)\n",
    "    pyplot.plot(x / gr_gIndexSize[0], z / gr_max[0])\n",
    "    \n",
    "for block, coord in enumerate(coords[::8]):\n",
    "    z = coord[1][1, :, 0]\n",
    "    lz = len(z)\n",
    "    x = numpy.linspace(block*(lz-2*gr_guard[1])-1, (block+1)*(lz-2*gr_guard[1])+1, lz, False)\n",
    "    pyplot.plot(x / gr_gIndexSize[1], z / gr_max[1])\n",
    "    \n",
    "pyplot.xlim((0, 1))\n",
    "pyplot.ylim((0, 1));\n",
    "pyplot.grid(True, which='both')"
   ]
  },
  {
   "cell_type": "code",
   "execution_count": 22,
   "metadata": {},
   "outputs": [
    {
     "name": "stdout",
     "output_type": "stream",
     "text": [
      "\n",
      "############    Building SImulationData Object   ############\n",
      "\n",
      "Processing metadata from: ra08_steady/INS_Rayleigh_hdf5_plt_cnt_0600\n",
      "Reading Grid from File\n",
      "Processing file: ra08_steady/INS_Rayleigh_hdf5_plt_cnt_0600\n",
      "\n",
      "#############################################################\n",
      "\n",
      "\n"
     ]
    }
   ],
   "source": [
    "outpath = \"\"#\"ra08_steady/\"\n",
    "\n",
    "ini_name = 'INS_Rayleigh_'\n",
    "header = 'hdf5_plt_cnt_'\n",
    "\n",
    "data = SimulationData.from_list([600], path=\"ra08_steady/\", basename='INS_Rayleigh_', header=\"hdf5_plt_cnt_\")\n",
    "lowdata = data.geometry\n",
    "lowvals = data.fields\n",
    "del[data]"
   ]
  },
  {
   "cell_type": "code",
   "execution_count": null,
   "metadata": {},
   "outputs": [],
   "source": []
  }
 ],
 "metadata": {
  "kernelspec": {
   "display_name": "Python 3",
   "language": "python",
   "name": "python3"
  },
  "language_info": {
   "codemirror_mode": {
    "name": "ipython",
    "version": 3
   },
   "file_extension": ".py",
   "mimetype": "text/x-python",
   "name": "python",
   "nbconvert_exporter": "python",
   "pygments_lexer": "ipython3",
   "version": "3.8.2"
  }
 },
 "nbformat": 4,
 "nbformat_minor": 4
}
