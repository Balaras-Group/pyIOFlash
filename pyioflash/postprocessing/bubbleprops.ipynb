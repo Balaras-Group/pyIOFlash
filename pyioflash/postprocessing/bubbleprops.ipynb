{
 "cells": [
  {
   "cell_type": "code",
   "execution_count": 1,
   "metadata": {},
   "outputs": [],
   "source": [
    "import skimage.measure as measure\n",
    "import numpy\n",
    "import pandas as pd\n",
    "import matplotlib\n",
    "import matplotlib.cm as cm\n",
    "import matplotlib.pyplot as plt"
   ]
  },
  {
   "cell_type": "code",
   "execution_count": 2,
   "metadata": {},
   "outputs": [
    {
     "data": {
      "image/png": "[encoded data removed]",
      "text/plain": [
       "<Figure size 432x288 with 1 Axes>"
      ]
     },
     "metadata": {},
     "output_type": "display_data"
    }
   ],
   "source": [
    "N = 1001\n",
    "\n",
    "xmin = -5.0\n",
    "xmax =  5.0\n",
    "zmin = -5.0\n",
    "zmax =  5.0\n",
    "\n",
    "nsample = 2\n",
    "\n",
    "rmin_sample = 0.0\n",
    "rmax_sample = 2.0\n",
    "\n",
    "xmin_sample = -3.0\n",
    "xmax_sample =  3.0\n",
    "zmin_sample = -3.0\n",
    "zmax_sample =  3.0\n",
    "\n",
    "\n",
    "X,Z = numpy.meshgrid(numpy.linspace(xmin,xmax,N),numpy.linspace(xmin,xmax,N))\n",
    "\n",
    "X = numpy.transpose(X)\n",
    "Z = numpy.transpose(Z)\n",
    "\n",
    "x_center = xmin_sample + numpy.random.random_sample([nsample,])*(xmax_sample - xmin_sample)\n",
    "z_center = zmin_sample + numpy.random.random_sample([nsample,])*(zmax_sample - zmin_sample)\n",
    "radius = rmin_sample + numpy.random.random_sample([nsample,])*(rmax_sample - rmin_sample)\n",
    "\n",
    "for i in range(nsample):\n",
    "    if i == 0:\n",
    "        phi = radius[i] - numpy.sqrt((X-x_center[i])**2 + (Z-z_center[i])**2)\n",
    "    else:\n",
    "        phi = numpy.maximum(phi,radius[i] - numpy.sqrt((X-x_center[i])**2 + (Z-z_center[i])**2))\n",
    "\n",
    "plt.contourf(X,Z,phi)\n",
    "plt.axis('equal')\n",
    "plt.show()"
   ]
  },
  {
   "cell_type": "code",
   "execution_count": 3,
   "metadata": {},
   "outputs": [],
   "source": [
    "bubble = measure.label(phi >= 0)\n",
    "\n",
    "measurements = measure.regionprops_table(bubble, properties=('centroid',\n",
    "                                                             'area',\n",
    "                                                             'major_axis_length',\n",
    "                                                             'minor_axis_length',\n",
    "                                                             'perimeter'))"
   ]
  },
  {
   "cell_type": "code",
   "execution_count": 4,
   "metadata": {},
   "outputs": [
    {
     "data": {
      "text/html": [
       "<div>\n",
       "<style scoped>\n",
       "    .dataframe tbody tr th:only-of-type {\n",
       "        vertical-align: middle;\n",
       "    }\n",
       "\n",
       "    .dataframe tbody tr th {\n",
       "        vertical-align: top;\n",
       "    }\n",
       "\n",
       "    .dataframe thead th {\n",
       "        text-align: right;\n",
       "    }\n",
       "</style>\n",
       "<table border=\"1\" class=\"dataframe\">\n",
       "  <thead>\n",
       "    <tr style=\"text-align: right;\">\n",
       "      <th></th>\n",
       "      <th>centroid-0</th>\n",
       "      <th>centroid-1</th>\n",
       "      <th>area</th>\n",
       "      <th>major_axis_length</th>\n",
       "      <th>minor_axis_length</th>\n",
       "      <th>perimeter</th>\n",
       "    </tr>\n",
       "  </thead>\n",
       "  <tbody>\n",
       "    <tr>\n",
       "      <th>0</th>\n",
       "      <td>-0.86</td>\n",
       "      <td>1.89</td>\n",
       "      <td>0.6991</td>\n",
       "      <td>0.944672</td>\n",
       "      <td>0.942259</td>\n",
       "      <td>3.095635</td>\n",
       "    </tr>\n",
       "    <tr>\n",
       "      <th>1</th>\n",
       "      <td>0.36</td>\n",
       "      <td>-2.79</td>\n",
       "      <td>2.8880</td>\n",
       "      <td>1.917785</td>\n",
       "      <td>1.917377</td>\n",
       "      <td>6.327838</td>\n",
       "    </tr>\n",
       "  </tbody>\n",
       "</table>\n",
       "</div>"
      ],
      "text/plain": [
       "   centroid-0  centroid-1    area  major_axis_length  minor_axis_length  \\\n",
       "0       -0.86        1.89  0.6991           0.944672           0.942259   \n",
       "1        0.36       -2.79  2.8880           1.917785           1.917377   \n",
       "\n",
       "   perimeter  \n",
       "0   3.095635  \n",
       "1   6.327838  "
      ]
     },
     "execution_count": 4,
     "metadata": {},
     "output_type": "execute_result"
    }
   ],
   "source": [
    "s = (N-1)/2\n",
    "f = (xmax-xmin)/(N-1)\n",
    "\n",
    "measurements['centroid-0'] = (measurements['centroid-0']-s)*f\n",
    "measurements['centroid-1'] = (measurements['centroid-1']-s)*f\n",
    "measurements['area'] = measurements['area']*f*f\n",
    "measurements['major_axis_length'] = measurements['major_axis_length']*f\n",
    "measurements['minor_axis_length'] = measurements['minor_axis_length']*f\n",
    "measurements['perimeter'] = measurements['perimeter']*f\n",
    "\n",
    "pd.DataFrame(measurements)"
   ]
  },
  {
   "cell_type": "code",
   "execution_count": 5,
   "metadata": {},
   "outputs": [
    {
     "data": {
      "image/png": "[encoded data removed]",
      "text/plain": [
       "<Figure size 432x288 with 1 Axes>"
      ]
     },
     "metadata": {},
     "output_type": "display_data"
    }
   ],
   "source": [
    "plt.contour(X,Z,phi,levels=[0])\n",
    "plt.scatter(measurements['centroid-0'],measurements['centroid-1'])\n",
    "plt.axis('equal')\n",
    "plt.show()"
   ]
  }
 ],
 "metadata": {
  "kernelspec": {
   "display_name": "Python 3",
   "language": "python",
   "name": "python3"
  },
  "language_info": {
   "codemirror_mode": {
    "name": "ipython",
    "version": 3
   },
   "file_extension": ".py",
   "mimetype": "text/x-python",
   "name": "python",
   "nbconvert_exporter": "python",
   "pygments_lexer": "ipython3",
   "version": "3.6.1"
  }
 },
 "nbformat": 4,
 "nbformat_minor": 2
}
