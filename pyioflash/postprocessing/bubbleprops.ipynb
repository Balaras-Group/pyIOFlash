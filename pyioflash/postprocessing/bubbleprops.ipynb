{
 "cells": [
  {
   "cell_type": "code",
   "execution_count": 1,
   "metadata": {},
   "outputs": [],
   "source": [
    "import skimage.measure as measure\n",
    "import numpy\n",
    "import matplotlib.pyplot as plt"
   ]
  },
  {
   "cell_type": "code",
   "execution_count": 2,
   "metadata": {},
   "outputs": [],
   "source": [
    "N = 1001\n",
    "\n",
    "X,Z = numpy.meshgrid(numpy.linspace(-7.5,7.5,N),numpy.linspace(-7.5,7.5,N))\n",
    "\n",
    "X = numpy.transpose(X)\n",
    "Z = numpy.transpose(Z)\n",
    "\n",
    "phi1 = 2.0 - numpy.sqrt((X+4)**2 + (Z+5)**2)\n",
    "phi2 = 1.0 - numpy.sqrt((X-3)**2 + (Z-1)**2)\n",
    "\n",
    "phi = numpy.maximum(phi1,phi2) \n",
    "\n",
    "bubble = measure.label(phi >= 0)"
   ]
  },
  {
   "cell_type": "code",
   "execution_count": 3,
   "metadata": {},
   "outputs": [
    {
     "data": {
      "image/png": "[encoded data removed]",
      "text/plain": [
       "<Figure size 432x288 with 1 Axes>"
      ]
     },
     "metadata": {},
     "output_type": "display_data"
    }
   ],
   "source": [
    "plt.contourf(X,Z,phi)\n",
    "plt.axis('equal')\n",
    "plt.show()"
   ]
  },
  {
   "cell_type": "code",
   "execution_count": 4,
   "metadata": {},
   "outputs": [],
   "source": [
    "measurements = measure.regionprops_table(bubble, properties=('centroid',\n",
    "                                                             'area',\n",
    "                                                             'major_axis_length',\n",
    "                                                             'minor_axis_length',\n",
    "                                                             'perimeter'))"
   ]
  },
  {
   "cell_type": "code",
   "execution_count": 5,
   "metadata": {},
   "outputs": [
    {
     "data": {
      "text/plain": [
       "{'centroid-0': array([233, 700]),\n",
       " 'centroid-1': array([166, 566]),\n",
       " 'area': array([55828, 13963]),\n",
       " 'major_axis_length': array([266.62710775, 133.3625974 ]),\n",
       " 'minor_axis_length': array([266.59854728, 133.30711055]),\n",
       " 'perimeter': array([879.57777721, 438.61731573])}"
      ]
     },
     "execution_count": 5,
     "metadata": {},
     "output_type": "execute_result"
    }
   ],
   "source": [
    "measurements"
   ]
  },
  {
   "cell_type": "code",
   "execution_count": 6,
   "metadata": {},
   "outputs": [],
   "source": [
    "s = (N-1)/2\n",
    "f = 15/(N-1)\n",
    "\n",
    "bubblenum  = len(measurements['centroid-0'])\n",
    "bubbledata = len(measurements)\n",
    "\n",
    "bubbleprop = numpy.zeros((bubblenum,bubbledata), dtype=float)\n",
    "\n",
    "#for thisbubble in range(bubblenum):\n",
    "for thisbubble in range(bubblenum):\n",
    "    bubbleprop[thisbubble,:] = numpy.array([(measurements['centroid-0'][thisbubble]-s)*f, \n",
    "                                           (measurements['centroid-1'][thisbubble]-s)*f,\n",
    "                          measurements['area'][thisbubble]*f*f,\n",
    "                          measurements['major_axis_length'][thisbubble]*f,\n",
    "                          measurements['minor_axis_length'][thisbubble]*f,\n",
    "                          measurements['perimeter'][thisbubble]*f])"
   ]
  },
  {
   "cell_type": "code",
   "execution_count": 7,
   "metadata": {},
   "outputs": [
    {
     "data": {
      "text/plain": [
       "array([[-4.005     , -5.01      , 12.5613    ,  3.99940662,  3.99897821,\n",
       "        13.19366666],\n",
       "       [ 3.        ,  0.99      ,  3.141675  ,  2.00043896,  1.99960666,\n",
       "         6.57925974]])"
      ]
     },
     "execution_count": 7,
     "metadata": {},
     "output_type": "execute_result"
    }
   ],
   "source": [
    "bubbleprop"
   ]
  },
  {
   "cell_type": "code",
   "execution_count": 8,
   "metadata": {},
   "outputs": [
    {
     "data": {
      "image/png": "[encoded data removed]",
      "text/plain": [
       "<Figure size 432x288 with 1 Axes>"
      ]
     },
     "metadata": {},
     "output_type": "display_data"
    }
   ],
   "source": [
    "plt.contourf(X,Z,phi)\n",
    "plt.scatter(bubbleprop[:,0],bubbleprop[0:,1])\n",
    "plt.axis('equal')\n",
    "plt.show()"
   ]
  }
 ],
 "metadata": {
  "kernelspec": {
   "display_name": "Python 3",
   "language": "python",
   "name": "python3"
  },
  "language_info": {
   "codemirror_mode": {
    "name": "ipython",
    "version": 3
   },
   "file_extension": ".py",
   "mimetype": "text/x-python",
   "name": "python",
   "nbconvert_exporter": "python",
   "pygments_lexer": "ipython3",
   "version": "3.6.1"
  }
 },
 "nbformat": 4,
 "nbformat_minor": 2
}
